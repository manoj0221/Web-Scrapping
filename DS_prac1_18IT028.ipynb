{
 "cells": [
  {
   "cell_type": "code",
   "execution_count": 4,
   "id": "84409b2a",
   "metadata": {},
   "outputs": [],
   "source": [
    "import requests\n"
   ]
  },
  {
   "cell_type": "code",
   "execution_count": 5,
   "id": "cb1d4e2b",
   "metadata": {},
   "outputs": [],
   "source": [
    "from bs4 import BeautifulSoup\n",
    "import pandas as pd"
   ]
  },
  {
   "cell_type": "code",
   "execution_count": 6,
   "id": "351c4a9a",
   "metadata": {},
   "outputs": [],
   "source": [
    "name=[]\n",
    "ratings=[]"
   ]
  },
  {
   "cell_type": "code",
   "execution_count": 11,
   "id": "61579cf0",
   "metadata": {},
   "outputs": [],
   "source": [
    "url=\"https://www.imdb.com/search/title/?title_type=tv_series&num_votes=100000,&sort=user_rating,desc\"\n",
    "page = requests.get(url)\n",
    "soup = BeautifulSoup(page.content, 'html.parser')"
   ]
  },
  {
   "cell_type": "code",
   "execution_count": 12,
   "id": "18a17d9a",
   "metadata": {},
   "outputs": [],
   "source": [
    "for i in soup.findAll('div',attrs={\"class\":\"lister-item mode-advanced\"}):\n",
    "    a=i.find(\"h3\",attrs={\"class\":\"lister-item-header\"})\n",
    "    n=a.find(\"a\",href=True)\n",
    "    r=i.find(\"div\",attrs={\"class\":\"inline-block ratings-imdb-rating\"})\n",
    "    name.append(n.text)\n",
    "    ratings.append(r.text.strip(\"\\n\"))"
   ]
  },
  {
   "cell_type": "code",
   "execution_count": 13,
   "id": "35d8f8c3",
   "metadata": {},
   "outputs": [],
   "source": [
    "df = pd.DataFrame({'Title':name,\"Ratings\":ratings})\n",
    "df.to_csv('DS_P1_18IT028.csv', index=False, encoding='utf-8')"
   ]
  }
 ],
 "metadata": {
  "kernelspec": {
   "display_name": "Python 3",
   "language": "python",
   "name": "python3"
  },
  "language_info": {
   "codemirror_mode": {
    "name": "ipython",
    "version": 3
   },
   "file_extension": ".py",
   "mimetype": "text/x-python",
   "name": "python",
   "nbconvert_exporter": "python",
   "pygments_lexer": "ipython3",
   "version": "3.8.8"
  }
 },
 "nbformat": 4,
 "nbformat_minor": 5
}
